{
 "cells": [
  {
   "cell_type": "code",
   "execution_count": 1,
   "metadata": {},
   "outputs": [],
   "source": [
    "import matplotlib.pyplot as plt\n",
    "import torch\n",
    "import torch.nn as nn\n",
    "import torch.nn.functional as F\n",
    "import numpy as np\n",
    "from torchvision import transforms, datasets"
   ]
  },
  {
   "cell_type": "code",
   "execution_count": 2,
   "metadata": {},
   "outputs": [
    {
     "name": "stdout",
     "output_type": "stream",
     "text": [
      "Using PyTorch version: 1.7.0  Device: cuda\n"
     ]
    }
   ],
   "source": [
    "if torch.cuda.is_available():\n",
    "    DEVICE = torch.device('cuda')\n",
    "else:\n",
    "    DEVICE = torch.device('cpu')\n",
    "    \n",
    "print('Using PyTorch version:', torch.__version__, ' Device:', DEVICE)"
   ]
  },
  {
   "cell_type": "code",
   "execution_count": 3,
   "metadata": {},
   "outputs": [],
   "source": [
    "BATCH_SIZE = 32\n",
    "EPOCHS = 10"
   ]
  },
  {
   "cell_type": "code",
   "execution_count": 4,
   "metadata": {},
   "outputs": [],
   "source": [
    "train_dataset = datasets.MNIST(root = \"./data/MNIST\",\n",
    "                              train = True,\n",
    "                              download = True,\n",
    "                              transform = transforms.ToTensor())\n",
    "test_dataset = datasets.MNIST(root = \"./data/MNIST\",\n",
    "                             train = False,\n",
    "                             transform = transforms.ToTensor())\n",
    "train_loader = torch.utils.data.DataLoader(dataset = train_dataset,\n",
    "                                          batch_size = BATCH_SIZE,\n",
    "                                          shuffle = True)\n",
    "test_loader = torch.utils.data.DataLoader(dataset = test_dataset,\n",
    "                                         batch_size = BATCH_SIZE,\n",
    "                                         shuffle = False)"
   ]
  },
  {
   "cell_type": "code",
   "execution_count": 5,
   "metadata": {},
   "outputs": [
    {
     "name": "stdout",
     "output_type": "stream",
     "text": [
      "X_train: torch.Size([32, 1, 28, 28]) type: torch.FloatTensor\n",
      "Y_train: torch.Size([32]) type: torch.LongTensor\n"
     ]
    }
   ],
   "source": [
    "for(X_train, Y_train) in train_loader:\n",
    "    print('X_train:', X_train.size(), 'type:', X_train.type())\n",
    "    print('Y_train:', Y_train.size(), 'type:', Y_train.type())\n",
    "    break"
   ]
  },
  {
   "cell_type": "code",
   "execution_count": 6,
   "metadata": {},
   "outputs": [
    {
     "data": {
      "image/png": "[encoded data removed]",
      "text/plain": [
       "<Figure size 720x72 with 10 Axes>"
      ]
     },
     "metadata": {
      "needs_background": "light"
     },
     "output_type": "display_data"
    }
   ],
   "source": [
    "pltsize = 1\n",
    "plt.figure(figsize=(10 * pltsize, pltsize))\n",
    "for i in range(10):\n",
    "    plt.subplot(1, 10, i + 1)\n",
    "    plt.axis('off')\n",
    "    plt.imshow(X_train[i, :, :, :].numpy().reshape(28, 28), cmap = \"gray_r\")\n",
    "    plt.title('Class: ' + str(Y_train[i].item()))"
   ]
  },
  {
   "cell_type": "code",
   "execution_count": 7,
   "metadata": {},
   "outputs": [],
   "source": [
    "class Net(nn.Module):\n",
    "    def __init__(self):\n",
    "        super(Net, self).__init__()\n",
    "        self.fc1 = nn.Linear(28 * 28, 512)\n",
    "        self.fc2 = nn.Linear(512, 256)\n",
    "        self.fc3 = nn.Linear(256, 10)\n",
    "    def forward(self, x):\n",
    "        x = x.view(-1, 28 * 28)\n",
    "        x = self.fc1(x)\n",
    "        x = F.relu(x)\n",
    "        x = self.fc2(x)\n",
    "        x = F.relu(x)\n",
    "        x = self.fc3(x)\n",
    "        x = F.log_softmax(x, dim = 1)\n",
    "        return x"
   ]
  },
  {
   "cell_type": "code",
   "execution_count": 9,
   "metadata": {},
   "outputs": [
    {
     "name": "stdout",
     "output_type": "stream",
     "text": [
      "Net(\n",
      "  (fc1): Linear(in_features=784, out_features=512, bias=True)\n",
      "  (fc2): Linear(in_features=512, out_features=256, bias=True)\n",
      "  (fc3): Linear(in_features=256, out_features=10, bias=True)\n",
      ")\n"
     ]
    }
   ],
   "source": [
    "model = Net().to(DEVICE)\n",
    "optimizer = torch.optim.Adam(model.parameters(), lr = 0.01)\n",
    "criterion = nn.CrossEntropyLoss()\n",
    "\n",
    "print(model)"
   ]
  },
  {
   "cell_type": "code",
   "execution_count": 10,
   "metadata": {},
   "outputs": [],
   "source": [
    "def train(model, train_loader, optimizer, log_interval):\n",
    "    model.train()\n",
    "    for batch_idx, (image, label) in enumerate(train_loader):\n",
    "        image = image.to(DEVICE)\n",
    "        label = label.to(DEVICE)\n",
    "        optimizer.zero_grad()\n",
    "        output = model(image)\n",
    "        loss = criterion(output, label)\n",
    "        loss.backward()\n",
    "        optimizer.step()\n",
    "\n",
    "        if batch_idx % log_interval == 0:\n",
    "            print(\"Train Epoch: {} [ {}/{}({:.0f}%)]\\tTrain Loss: {:.6f}\".format(\n",
    "            Epoch, batch_idx * len(image),\n",
    "            len(train_loader.dataset), 100. * batch_idx / len(train_loader),\n",
    "            loss.item()))"
   ]
  },
  {
   "cell_type": "code",
   "execution_count": 11,
   "metadata": {},
   "outputs": [],
   "source": [
    "def evaluate(model, test_loader):\n",
    "    model.eval()\n",
    "    test_loss = 0\n",
    "    correct = 0\n",
    "    \n",
    "    with torch.no_grad():\n",
    "        for image, label in test_loader:\n",
    "            image = image.to(DEVICE)\n",
    "            label = label.to(DEVICE)\n",
    "            output = model(image)\n",
    "            test_loss += criterion(output, label).item()\n",
    "            prediction = output.max(1, keepdim = True)[1]\n",
    "            correct += prediction.eq(label.view_as(prediction)).sum().item()\n",
    "\n",
    "            \n",
    "    test_loss /= len(test_loader.dataset)\n",
    "    test_accuracy = 100. * correct / len(test_loader.dataset)\n",
    "    return test_loss, test_accuracy"
   ]
  },
  {
   "cell_type": "code",
   "execution_count": 12,
   "metadata": {},
   "outputs": [
    {
     "name": "stdout",
     "output_type": "stream",
     "text": [
      "Train Epoch: 1 [ 0/60000(0%)]\tTrain Loss: 2.297880\n",
      "Train Epoch: 1 [ 6400/60000(11%)]\tTrain Loss: 0.386356\n",
      "Train Epoch: 1 [ 12800/60000(21%)]\tTrain Loss: 0.334383\n",
      "Train Epoch: 1 [ 19200/60000(32%)]\tTrain Loss: 0.147362\n",
      "Train Epoch: 1 [ 25600/60000(43%)]\tTrain Loss: 0.141929\n",
      "Train Epoch: 1 [ 32000/60000(53%)]\tTrain Loss: 0.195718\n",
      "Train Epoch: 1 [ 38400/60000(64%)]\tTrain Loss: 0.562172\n",
      "Train Epoch: 1 [ 44800/60000(75%)]\tTrain Loss: 0.194078\n",
      "Train Epoch: 1 [ 51200/60000(85%)]\tTrain Loss: 0.851929\n",
      "Train Epoch: 1 [ 57600/60000(96%)]\tTrain Loss: 0.259607\n",
      "\n",
      "[EPOCH: 1], \tTest Loss: 0.0075, \tTest Accuracy: 93.39 %\n",
      "\n",
      "Train Epoch: 2 [ 0/60000(0%)]\tTrain Loss: 0.147352\n",
      "Train Epoch: 2 [ 6400/60000(11%)]\tTrain Loss: 0.434193\n",
      "Train Epoch: 2 [ 12800/60000(21%)]\tTrain Loss: 0.341704\n",
      "Train Epoch: 2 [ 19200/60000(32%)]\tTrain Loss: 0.246795\n",
      "Train Epoch: 2 [ 25600/60000(43%)]\tTrain Loss: 0.027699\n",
      "Train Epoch: 2 [ 32000/60000(53%)]\tTrain Loss: 0.487253\n",
      "Train Epoch: 2 [ 38400/60000(64%)]\tTrain Loss: 0.263676\n",
      "Train Epoch: 2 [ 44800/60000(75%)]\tTrain Loss: 0.409130\n",
      "Train Epoch: 2 [ 51200/60000(85%)]\tTrain Loss: 0.067985\n",
      "Train Epoch: 2 [ 57600/60000(96%)]\tTrain Loss: 0.032315\n",
      "\n",
      "[EPOCH: 2], \tTest Loss: 0.0080, \tTest Accuracy: 93.36 %\n",
      "\n",
      "Train Epoch: 3 [ 0/60000(0%)]\tTrain Loss: 0.126997\n",
      "Train Epoch: 3 [ 6400/60000(11%)]\tTrain Loss: 0.010234\n",
      "Train Epoch: 3 [ 12800/60000(21%)]\tTrain Loss: 0.277947\n",
      "Train Epoch: 3 [ 19200/60000(32%)]\tTrain Loss: 0.097964\n",
      "Train Epoch: 3 [ 25600/60000(43%)]\tTrain Loss: 0.161131\n",
      "Train Epoch: 3 [ 32000/60000(53%)]\tTrain Loss: 0.058249\n",
      "Train Epoch: 3 [ 38400/60000(64%)]\tTrain Loss: 0.258678\n",
      "Train Epoch: 3 [ 44800/60000(75%)]\tTrain Loss: 0.201474\n",
      "Train Epoch: 3 [ 51200/60000(85%)]\tTrain Loss: 0.004054\n",
      "Train Epoch: 3 [ 57600/60000(96%)]\tTrain Loss: 0.022107\n",
      "\n",
      "[EPOCH: 3], \tTest Loss: 0.0062, \tTest Accuracy: 95.23 %\n",
      "\n",
      "Train Epoch: 4 [ 0/60000(0%)]\tTrain Loss: 0.179596\n",
      "Train Epoch: 4 [ 6400/60000(11%)]\tTrain Loss: 0.053124\n",
      "Train Epoch: 4 [ 12800/60000(21%)]\tTrain Loss: 0.571781\n",
      "Train Epoch: 4 [ 19200/60000(32%)]\tTrain Loss: 0.020900\n",
      "Train Epoch: 4 [ 25600/60000(43%)]\tTrain Loss: 0.052244\n",
      "Train Epoch: 4 [ 32000/60000(53%)]\tTrain Loss: 0.175515\n",
      "Train Epoch: 4 [ 38400/60000(64%)]\tTrain Loss: 0.145839\n",
      "Train Epoch: 4 [ 44800/60000(75%)]\tTrain Loss: 0.093368\n",
      "Train Epoch: 4 [ 51200/60000(85%)]\tTrain Loss: 0.134330\n",
      "Train Epoch: 4 [ 57600/60000(96%)]\tTrain Loss: 0.010395\n",
      "\n",
      "[EPOCH: 4], \tTest Loss: 0.0052, \tTest Accuracy: 95.70 %\n",
      "\n",
      "Train Epoch: 5 [ 0/60000(0%)]\tTrain Loss: 0.012905\n",
      "Train Epoch: 5 [ 6400/60000(11%)]\tTrain Loss: 0.078336\n",
      "Train Epoch: 5 [ 12800/60000(21%)]\tTrain Loss: 0.387774\n",
      "Train Epoch: 5 [ 19200/60000(32%)]\tTrain Loss: 0.167560\n",
      "Train Epoch: 5 [ 25600/60000(43%)]\tTrain Loss: 0.082912\n",
      "Train Epoch: 5 [ 32000/60000(53%)]\tTrain Loss: 0.139673\n",
      "Train Epoch: 5 [ 38400/60000(64%)]\tTrain Loss: 0.018101\n",
      "Train Epoch: 5 [ 44800/60000(75%)]\tTrain Loss: 0.051069\n",
      "Train Epoch: 5 [ 51200/60000(85%)]\tTrain Loss: 0.000597\n",
      "Train Epoch: 5 [ 57600/60000(96%)]\tTrain Loss: 0.128401\n",
      "\n",
      "[EPOCH: 5], \tTest Loss: 0.0057, \tTest Accuracy: 95.42 %\n",
      "\n",
      "Train Epoch: 6 [ 0/60000(0%)]\tTrain Loss: 0.120494\n",
      "Train Epoch: 6 [ 6400/60000(11%)]\tTrain Loss: 0.093620\n",
      "Train Epoch: 6 [ 12800/60000(21%)]\tTrain Loss: 0.282216\n",
      "Train Epoch: 6 [ 19200/60000(32%)]\tTrain Loss: 0.265567\n",
      "Train Epoch: 6 [ 25600/60000(43%)]\tTrain Loss: 0.013533\n",
      "Train Epoch: 6 [ 32000/60000(53%)]\tTrain Loss: 0.182108\n",
      "Train Epoch: 6 [ 38400/60000(64%)]\tTrain Loss: 0.089499\n",
      "Train Epoch: 6 [ 44800/60000(75%)]\tTrain Loss: 0.046266\n",
      "Train Epoch: 6 [ 51200/60000(85%)]\tTrain Loss: 0.069019\n",
      "Train Epoch: 6 [ 57600/60000(96%)]\tTrain Loss: 0.289222\n",
      "\n",
      "[EPOCH: 6], \tTest Loss: 0.0052, \tTest Accuracy: 95.98 %\n",
      "\n",
      "Train Epoch: 7 [ 0/60000(0%)]\tTrain Loss: 0.030080\n",
      "Train Epoch: 7 [ 6400/60000(11%)]\tTrain Loss: 0.516100\n",
      "Train Epoch: 7 [ 12800/60000(21%)]\tTrain Loss: 0.061607\n",
      "Train Epoch: 7 [ 19200/60000(32%)]\tTrain Loss: 0.486846\n",
      "Train Epoch: 7 [ 25600/60000(43%)]\tTrain Loss: 0.295799\n",
      "Train Epoch: 7 [ 32000/60000(53%)]\tTrain Loss: 0.898747\n",
      "Train Epoch: 7 [ 38400/60000(64%)]\tTrain Loss: 0.058927\n",
      "Train Epoch: 7 [ 44800/60000(75%)]\tTrain Loss: 0.238114\n",
      "Train Epoch: 7 [ 51200/60000(85%)]\tTrain Loss: 0.149827\n",
      "Train Epoch: 7 [ 57600/60000(96%)]\tTrain Loss: 0.302820\n",
      "\n",
      "[EPOCH: 7], \tTest Loss: 0.0054, \tTest Accuracy: 96.24 %\n",
      "\n",
      "Train Epoch: 8 [ 0/60000(0%)]\tTrain Loss: 0.191074\n",
      "Train Epoch: 8 [ 6400/60000(11%)]\tTrain Loss: 0.003641\n",
      "Train Epoch: 8 [ 12800/60000(21%)]\tTrain Loss: 0.031698\n",
      "Train Epoch: 8 [ 19200/60000(32%)]\tTrain Loss: 0.083491\n",
      "Train Epoch: 8 [ 25600/60000(43%)]\tTrain Loss: 0.038611\n",
      "Train Epoch: 8 [ 32000/60000(53%)]\tTrain Loss: 0.033096\n",
      "Train Epoch: 8 [ 38400/60000(64%)]\tTrain Loss: 0.002795\n",
      "Train Epoch: 8 [ 44800/60000(75%)]\tTrain Loss: 0.277209\n",
      "Train Epoch: 8 [ 51200/60000(85%)]\tTrain Loss: 0.001089\n",
      "Train Epoch: 8 [ 57600/60000(96%)]\tTrain Loss: 0.161636\n",
      "\n",
      "[EPOCH: 8], \tTest Loss: 0.0059, \tTest Accuracy: 96.02 %\n",
      "\n",
      "Train Epoch: 9 [ 0/60000(0%)]\tTrain Loss: 0.018993\n",
      "Train Epoch: 9 [ 6400/60000(11%)]\tTrain Loss: 0.323938\n",
      "Train Epoch: 9 [ 12800/60000(21%)]\tTrain Loss: 0.386010\n",
      "Train Epoch: 9 [ 19200/60000(32%)]\tTrain Loss: 0.009681\n",
      "Train Epoch: 9 [ 25600/60000(43%)]\tTrain Loss: 0.026017\n",
      "Train Epoch: 9 [ 32000/60000(53%)]\tTrain Loss: 0.000684\n",
      "Train Epoch: 9 [ 38400/60000(64%)]\tTrain Loss: 0.182452\n",
      "Train Epoch: 9 [ 44800/60000(75%)]\tTrain Loss: 0.185266\n",
      "Train Epoch: 9 [ 51200/60000(85%)]\tTrain Loss: 0.398996\n",
      "Train Epoch: 9 [ 57600/60000(96%)]\tTrain Loss: 0.059319\n",
      "\n",
      "[EPOCH: 9], \tTest Loss: 0.0056, \tTest Accuracy: 96.40 %\n",
      "\n",
      "Train Epoch: 10 [ 0/60000(0%)]\tTrain Loss: 0.002946\n",
      "Train Epoch: 10 [ 6400/60000(11%)]\tTrain Loss: 0.073211\n",
      "Train Epoch: 10 [ 12800/60000(21%)]\tTrain Loss: 0.114020\n",
      "Train Epoch: 10 [ 19200/60000(32%)]\tTrain Loss: 0.001181\n",
      "Train Epoch: 10 [ 25600/60000(43%)]\tTrain Loss: 0.007219\n",
      "Train Epoch: 10 [ 32000/60000(53%)]\tTrain Loss: 0.038821\n",
      "Train Epoch: 10 [ 38400/60000(64%)]\tTrain Loss: 0.050810\n",
      "Train Epoch: 10 [ 44800/60000(75%)]\tTrain Loss: 0.008615\n",
      "Train Epoch: 10 [ 51200/60000(85%)]\tTrain Loss: 0.072829\n",
      "Train Epoch: 10 [ 57600/60000(96%)]\tTrain Loss: 0.005797\n",
      "\n",
      "[EPOCH: 10], \tTest Loss: 0.0056, \tTest Accuracy: 96.56 %\n",
      "\n"
     ]
    }
   ],
   "source": [
    "for Epoch in range(1, EPOCHS + 1):\n",
    "    train(model, train_loader, optimizer, log_interval = 200)\n",
    "    test_loss, test_accuracy = evaluate(model, test_loader)\n",
    "    print(\"\\n[EPOCH: {}], \\tTest Loss: {:.4f}, \\tTest Accuracy: {:.2f} %\\n\".format(\n",
    "        Epoch, test_loss, test_accuracy))"
   ]
  },
  {
   "cell_type": "code",
   "execution_count": null,
   "metadata": {},
   "outputs": [],
   "source": []
  }
 ],
 "metadata": {
  "kernelspec": {
   "display_name": "Python 3",
   "language": "python",
   "name": "python3"
  },
  "language_info": {
   "codemirror_mode": {
    "name": "ipython",
    "version": 3
   },
   "file_extension": ".py",
   "mimetype": "text/x-python",
   "name": "python",
   "nbconvert_exporter": "python",
   "pygments_lexer": "ipython3",
   "version": "3.8.3"
  }
 },
 "nbformat": 4,
 "nbformat_minor": 4
}
